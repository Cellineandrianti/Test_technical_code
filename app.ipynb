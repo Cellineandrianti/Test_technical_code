{
 "cells": [
  {
   "cell_type": "code",
   "execution_count": 1,
   "id": "7f26e772",
   "metadata": {},
   "outputs": [
    {
     "name": "stdout",
     "output_type": "stream",
     "text": [
      "Requirement already satisfied: flask in c:\\users\\celline andrianti\\anaconda3\\lib\\site-packages (2.2.2)\n",
      "Requirement already satisfied: Werkzeug>=2.2.2 in c:\\users\\celline andrianti\\anaconda3\\lib\\site-packages (from flask) (2.2.2)\n",
      "Requirement already satisfied: Jinja2>=3.0 in c:\\users\\celline andrianti\\anaconda3\\lib\\site-packages (from flask) (3.1.2)\n",
      "Requirement already satisfied: itsdangerous>=2.0 in c:\\users\\celline andrianti\\anaconda3\\lib\\site-packages (from flask) (2.0.1)\n",
      "Requirement already satisfied: click>=8.0 in c:\\users\\celline andrianti\\anaconda3\\lib\\site-packages (from flask) (8.0.4)\n",
      "Requirement already satisfied: colorama in c:\\users\\celline andrianti\\anaconda3\\lib\\site-packages (from click>=8.0->flask) (0.4.6)\n",
      "Requirement already satisfied: MarkupSafe>=2.0 in c:\\users\\celline andrianti\\anaconda3\\lib\\site-packages (from Jinja2>=3.0->flask) (2.1.1)\n"
     ]
    }
   ],
   "source": [
    "!pip install flask\n"
   ]
  },
  {
   "cell_type": "code",
   "execution_count": 1,
   "id": "9806b319",
   "metadata": {},
   "outputs": [],
   "source": [
    "from flask import Flask, render_template, request, jsonify\n",
    "app = Flask (__name__)"
   ]
  },
  {
   "cell_type": "code",
   "execution_count": 2,
   "id": "0aa3b947",
   "metadata": {},
   "outputs": [
    {
     "name": "stdout",
     "output_type": "stream",
     "text": [
      "Input Angka: 23\n",
      "Pilih Menu:\n",
      "1. Generate Segitiga\n",
      "2. Generate Bilangan Ganjil\n",
      "3. Generate Bilangan Prima\n",
      " Pilihan(1/2/3): 2\n",
      "Bilangan Ganjil:  [1, 3, 5, 7, 9, 11, 13, 15, 17, 19, 21, 23, 25, 27, 29, 31, 33, 35, 37, 39, 41, 43, 45]\n"
     ]
    }
   ],
   "source": [
    "def main():\n",
    "    text = input(\"Input Angka: \")\n",
    "    \n",
    "    try:\n",
    "        angka = int(text)\n",
    "    except ValueError:\n",
    "        print (\"Input harus berupa angka\")\n",
    "        return\n",
    "    \n",
    "    choice = int(input(\"Pilih Menu:\\n1. Generate Segitiga\\n2. Generate Bilangan Ganjil\\n3. Generate Bilangan Prima\\n Pilihan(1/2/3): \"))\n",
    "    \n",
    "    if choice == 1:\n",
    "        generatesegitiga(angka)\n",
    "    elif choice == 2:\n",
    "        generatebilanganganjil(angka)\n",
    "    elif choice == 3:\n",
    "        generatebilanganprima(angka)\n",
    "    else:\n",
    "        print (\"Opsi Tidak Valid\")\n",
    "        \n",
    "def generatesegitiga(n):\n",
    "        angka_str = str(n)\n",
    "        \n",
    "        for i in range (len(angka_str)):\n",
    "            print(angka_str[i] * (i+1))\n",
    "    \n",
    "def generatebilanganganjil(n):\n",
    "        ganjil = [x for x in range (1, 2*n, 2)]\n",
    "        print (\"Bilangan Ganjil: \", ganjil)\n",
    "    \n",
    "def is_prima(num):\n",
    "        if num < 2:\n",
    "            return False\n",
    "        for i in range (2, int(num**0.5)+1):\n",
    "            if num %  i == 0:\n",
    "                return False\n",
    "        return True\n",
    "    \n",
    "def generatebilanganprima(n):\n",
    "        prima = [num for num in range (2, n+1) if is_prima(num)]\n",
    "        print (\"Bilangan Prima: \", prima)\n",
    "    \n",
    "if __name__ == \"__main__\":\n",
    "        main()"
   ]
  }
 ],
 "metadata": {
  "kernelspec": {
   "display_name": "Python 3 (ipykernel)",
   "language": "python",
   "name": "python3"
  },
  "language_info": {
   "codemirror_mode": {
    "name": "ipython",
    "version": 3
   },
   "file_extension": ".py",
   "mimetype": "text/x-python",
   "name": "python",
   "nbconvert_exporter": "python",
   "pygments_lexer": "ipython3",
   "version": "3.10.9"
  }
 },
 "nbformat": 4,
 "nbformat_minor": 5
}
